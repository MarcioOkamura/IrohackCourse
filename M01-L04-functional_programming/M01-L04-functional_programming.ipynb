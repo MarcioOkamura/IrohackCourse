{
 "cells": [
  {
   "cell_type": "markdown",
   "metadata": {
    "colab_type": "text",
    "id": "6I1W1y5zDCIN"
   },
   "source": [
    "# Before your start:\n",
    "- Comment as much as you can\n",
    "- Happy learning!"
   ]
  },
  {
   "cell_type": "code",
   "execution_count": 7,
   "metadata": {
    "colab": {},
    "colab_type": "code",
    "id": "1t-NDi5NDCIW"
   },
   "outputs": [],
   "source": [
    "import numpy as np\n",
    "import pandas as pd"
   ]
  },
  {
   "cell_type": "markdown",
   "metadata": {
    "colab_type": "text",
    "id": "P53qCn3xDCIg"
   },
   "source": [
    "# Inside a function\n",
    "You are already familiar with several built in functions on python as well as libraries.  \n",
    "Let's try to figure out how they are made in pure python. "
   ]
  },
  {
   "cell_type": "markdown",
   "metadata": {
    "colab_type": "text",
    "id": "7Vq9tOLcDCIi"
   },
   "source": [
    "Create a function that `returns the count` of a list of numbers"
   ]
  },
  {
   "cell_type": "code",
   "execution_count": 8,
   "metadata": {},
   "outputs": [],
   "source": [
    "test_list = [1,2,3,4,5,6,7,8,9,10,12,13]"
   ]
  },
  {
   "cell_type": "code",
   "execution_count": 38,
   "metadata": {},
   "outputs": [
    {
     "name": "stdout",
     "output_type": "stream",
     "text": [
      "12\n"
     ]
    }
   ],
   "source": [
    "# Your code here\n",
    "\n",
    "def count_list():\n",
    "    saida = 0\n",
    "    for i in test_list:\n",
    "        saida +=1\n",
    "        #print(saida)\n",
    "    return saida\n",
    "\n",
    "print(count_list())"
   ]
  },
  {
   "cell_type": "markdown",
   "metadata": {
    "colab_type": "text",
    "id": "02PYrNc5DCIt"
   },
   "source": [
    "Create a function that `returns the mean` of a list of numbers"
   ]
  },
  {
   "cell_type": "code",
   "execution_count": 46,
   "metadata": {},
   "outputs": [
    {
     "name": "stdout",
     "output_type": "stream",
     "text": [
      "[21.972334824176066, 15.426425127637334, 10.414995869951781, 26.60700652421849, 79.00035502552869]\n"
     ]
    }
   ],
   "source": [
    "# Your code here\n",
    "import random\n",
    "\n",
    "def lista_de_numeros(x):     \n",
    "    listagem = []\n",
    "    for j in range(x):\n",
    "        listagem.append(random.random()*100)\n",
    "    return listagem\n",
    "\n",
    "print(lista_de_numeros(5))"
   ]
  },
  {
   "cell_type": "markdown",
   "metadata": {
    "colab_type": "text",
    "id": "xy1rA4EeDCI5"
   },
   "source": [
    "Create a function that `returns the standard deviation` of a list of numbers using the previous functions you created. "
   ]
  },
  {
   "cell_type": "code",
   "execution_count": null,
   "metadata": {},
   "outputs": [],
   "source": [
    "# Your code here\n"
   ]
  },
  {
   "cell_type": "markdown",
   "metadata": {
    "colab_type": "text",
    "id": "Dro2ll4WDCJB"
   },
   "source": [
    "Create a function that `returns the count, mean and standard deviation` of a given list.  \n",
    "`Document this function` using triple quotes, your documentation should have description, parameters, returns and examples. "
   ]
  },
  {
   "cell_type": "code",
   "execution_count": null,
   "metadata": {},
   "outputs": [],
   "source": [
    "# Your code here"
   ]
  },
  {
   "cell_type": "markdown",
   "metadata": {
    "colab_type": "text",
    "id": "-_YUdHo7DCJJ"
   },
   "source": [
    "# String Cleaning\n",
    "When working with textual data you will often have to clean it before being able to analyze it.  \n",
    "Create a function that receives a string and `returns that string in all lower case, without special characters and in alphabetical order`. "
   ]
  },
  {
   "cell_type": "code",
   "execution_count": 54,
   "metadata": {},
   "outputs": [],
   "source": [
    "test_string = \"xnsiAAx_vcdsmc oB.,/?xedxmew\""
   ]
  },
  {
   "cell_type": "code",
   "execution_count": 61,
   "metadata": {},
   "outputs": [
    {
     "data": {
      "text/plain": [
       "'aabccddeeimmnossvwxxxx'"
      ]
     },
     "execution_count": 61,
     "metadata": {},
     "output_type": "execute_result"
    }
   ],
   "source": [
    "# Your code here"
   ]
  },
  {
   "cell_type": "markdown",
   "metadata": {
    "colab_type": "text",
    "id": "23s3vEQ-DCJO"
   },
   "source": [
    "# Classification\n",
    "Sometimes datasets provide very good and precise information but not in the way we need to use it.  \n",
    "In this challenge, `make a function` that takes the list below and turns it into a category list. \n",
    "You can use the median to set the center of your  scale:  \n",
    "`\"above the median\", \"median\", \"below the median\"`."
   ]
  },
  {
   "cell_type": "code",
   "execution_count": 88,
   "metadata": {},
   "outputs": [],
   "source": [
    "list_for_classification = [ 50, 120, 30, 10, 90, 70, 10]"
   ]
  },
  {
   "cell_type": "code",
   "execution_count": null,
   "metadata": {},
   "outputs": [],
   "source": [
    "# Your code here"
   ]
  },
  {
   "cell_type": "markdown",
   "metadata": {
    "colab_type": "text",
    "id": "qgCz4w1XDCJU"
   },
   "source": [
    "# Recursion \n",
    "In some cases it is interesting to build a function that calls itself.  \n",
    "Use a `recursive function` that asks for an `input` from the users age.  \n",
    "Keeps asking it until the input is a `number between 0 and 150`. "
   ]
  },
  {
   "cell_type": "code",
   "execution_count": null,
   "metadata": {},
   "outputs": [],
   "source": [
    "# Your code here"
   ]
  },
  {
   "cell_type": "markdown",
   "metadata": {
    "colab_type": "text",
    "id": "k0oT8Xo2DCJa"
   },
   "source": [
    "# Global and local variables "
   ]
  },
  {
   "cell_type": "markdown",
   "metadata": {},
   "source": [
    "Make a function sort as words in alphabetical order.  \n",
    "Expected output:\n",
    "````python\n",
    "'AI Big Data Data Warehouse Machine Learning Pipeline'\n",
    "````"
   ]
  },
  {
   "cell_type": "markdown",
   "metadata": {},
   "source": [
    "Make the function using local variables"
   ]
  },
  {
   "cell_type": "code",
   "execution_count": null,
   "metadata": {},
   "outputs": [],
   "source": [
    "# Your code here\n",
    "def alphabetical_order_local():\n",
    "    loca_variable =  \"Big Data, Machine Learning, AI, Data Warehouse, Pipeline\"\n"
   ]
  },
  {
   "cell_type": "markdown",
   "metadata": {},
   "source": [
    "Make the function using global variables"
   ]
  },
  {
   "cell_type": "code",
   "execution_count": null,
   "metadata": {},
   "outputs": [],
   "source": [
    "# Your code here"
   ]
  },
  {
   "cell_type": "code",
   "execution_count": null,
   "metadata": {},
   "outputs": [],
   "source": [
    "global_variable = \"Big Data, Machine Learning, AI, Data Warehouse, Pipeline\"\n",
    "def alphabetical_order_global():"
   ]
  }
 ],
 "metadata": {
  "colab": {
   "name": "functional_programming.ipynb",
   "provenance": []
  },
  "kernelspec": {
   "display_name": "Python 3",
   "language": "python",
   "name": "python3"
  },
  "language_info": {
   "codemirror_mode": {
    "name": "ipython",
    "version": 3
   },
   "file_extension": ".py",
   "mimetype": "text/x-python",
   "name": "python",
   "nbconvert_exporter": "python",
   "pygments_lexer": "ipython3",
   "version": "3.8.8"
  },
  "toc": {
   "base_numbering": 1,
   "nav_menu": {},
   "number_sections": true,
   "sideBar": true,
   "skip_h1_title": false,
   "title_cell": "Table of Contents",
   "title_sidebar": "Contents",
   "toc_cell": false,
   "toc_position": {},
   "toc_section_display": true,
   "toc_window_display": false
  },
  "varInspector": {
   "cols": {
    "lenName": 16,
    "lenType": 16,
    "lenVar": 40
   },
   "kernels_config": {
    "python": {
     "delete_cmd_postfix": "",
     "delete_cmd_prefix": "del ",
     "library": "var_list.py",
     "varRefreshCmd": "print(var_dic_list())"
    },
    "r": {
     "delete_cmd_postfix": ") ",
     "delete_cmd_prefix": "rm(",
     "library": "var_list.r",
     "varRefreshCmd": "cat(var_dic_list()) "
    }
   },
   "types_to_exclude": [
    "module",
    "function",
    "builtin_function_or_method",
    "instance",
    "_Feature"
   ],
   "window_display": false
  }
 },
 "nbformat": 4,
 "nbformat_minor": 1
}
