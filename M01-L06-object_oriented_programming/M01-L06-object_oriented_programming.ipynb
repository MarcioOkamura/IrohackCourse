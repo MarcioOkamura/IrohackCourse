{
 "cells": [
  {
   "cell_type": "markdown",
   "metadata": {},
   "source": [
    "# Object Oriented Programming "
   ]
  },
  {
   "cell_type": "markdown",
   "metadata": {
    "colab_type": "text",
    "id": "7s_ABg091kzZ"
   },
   "source": [
    "## Creating a class"
   ]
  },
  {
   "cell_type": "markdown",
   "metadata": {
    "colab_type": "text",
    "id": "7oWHt06a1kza"
   },
   "source": [
    "First of all, let's create a simple class!   \n",
    "- Name this class `Car`. ( [PEP8](https://www.python.org/dev/peps/pep-0008/#class-names) suggests using CamelCase for class names )\n",
    "\n",
    "- That should be as simple as possible. The content should be only the `pass` statement.\n",
    "\n",
    "The `pass` statement is used just as a placeholder.   \n",
    "This will be a class that doesn't do anything yet.\n",
    "```python\n",
    "class Car:\n",
    "    pass\n",
    "my_car = Car()\n",
    "```"
   ]
  },
  {
   "cell_type": "code",
   "execution_count": 2,
   "metadata": {
    "colab": {},
    "colab_type": "code",
    "id": "9Vlvqlg_1kzb"
   },
   "outputs": [
    {
     "data": {
      "text/plain": [
       "__main__.Car"
      ]
     },
     "execution_count": 2,
     "metadata": {},
     "output_type": "execute_result"
    }
   ],
   "source": [
    "# check the output of Car() and my_car\n",
    "class Car:\n",
    "    pass\n",
    "my_car = Car()\n",
    "type(my_car)"
   ]
  },
  {
   "cell_type": "markdown",
   "metadata": {
    "colab_type": "text",
    "id": "jCLcCavN1kzf"
   },
   "source": [
    "## Attributes for a car\n",
    "\n",
    "- Think of 5 attributes that all cars have and their possible values.   \n",
    "- Write down these 5 attributes for later use.  "
   ]
  },
  {
   "cell_type": "code",
   "execution_count": 2,
   "metadata": {
    "colab": {},
    "colab_type": "code",
    "id": "n0uXsZtW1kzg"
   },
   "outputs": [
    {
     "name": "stdout",
     "output_type": "stream",
     "text": [
      "Amarelo\n",
      "Carro é Amarelo com 4 portas da VW, cambio Automatico e motorização 1.6\n"
     ]
    }
   ],
   "source": [
    "# write the attributes name you've chosen and a comment\n",
    "'''\n",
    "Cor\n",
    "Montadora\n",
    "Cambio\n",
    "Portas\n",
    "Motorizacao\n",
    "'''\n",
    "\n",
    "class Car:\n",
    "    def __init__(self,Cor,Montadora,Cambio,Portas,Motorizacao):\n",
    "        '''\n",
    "        Modular um carro\n",
    "        Cor = Str\n",
    "        Montadora = Str\n",
    "        Cambio = Str\n",
    "        Portas = Int\n",
    "        Motorizacao = Str\n",
    "        '''\n",
    "        \n",
    "        self.Cor = Cor\n",
    "        self.Montadora = Montadora\n",
    "        self.Cambio = Cambio\n",
    "        self.Portas = Portas\n",
    "        self.Motorizacao = Motorizacao\n",
    "    \n",
    "    def __repr__(self):\n",
    "        return f'Carro é {self.Cor} com {self.Portas} portas da {self.Montadora}, cambio {self.Cambio} e motorização {self.Motorizacao}'\n",
    "        \n",
    "    \n",
    "my_car = Car('Amarelo','VW','Automatico',4,1.6)\n",
    "\n",
    "print(my_car.Cor)\n",
    "print(my_car)"
   ]
  },
  {
   "cell_type": "markdown",
   "metadata": {},
   "source": [
    "# Special method"
   ]
  },
  {
   "cell_type": "markdown",
   "metadata": {
    "colab_type": "text",
    "id": "4avEppmP1kzk"
   },
   "source": [
    "We will create the `__init(self)__` special method.  \n",
    "This is the first thing that will run when you run the `Car()` class.\n",
    "```python\n",
    "class Car(): \n",
    "    def __init__(self):\n",
    "        pass\n",
    "my_car = Car()\n",
    "```   "
   ]
  },
  {
   "cell_type": "code",
   "execution_count": 28,
   "metadata": {},
   "outputs": [
    {
     "name": "stdout",
     "output_type": "stream",
     "text": [
      " type de Car: <class 'type'> e type de my_car: <class '__main__.Car'>\n"
     ]
    }
   ],
   "source": [
    "# check the output of Car() class and my_car\n",
    "print( f' type de Car: {type(Car)} e type de my_car: {type(my_car)}')"
   ]
  },
  {
   "cell_type": "markdown",
   "metadata": {
    "colab_type": "text",
    "id": "_PSGLYEc1kzv"
   },
   "source": [
    "## The self argument"
   ]
  },
  {
   "cell_type": "markdown",
   "metadata": {
    "colab_type": "text",
    "id": "aUegwH6v1kzv"
   },
   "source": [
    "- Remember, the first argument of the `def __init__(self)` function should always be the `self` keyword.\n",
    "- The `self` argument represents the object itself. That is a way to have access to the objects own attribute."
   ]
  },
  {
   "cell_type": "markdown",
   "metadata": {},
   "source": [
    "## New attributes for  the `Car` class.  \n",
    "- Remember the attributes you wrote down earlier?  \n",
    "- Let's put them as arguments of the `def __init__(self, ...)` function.\n",
    "- Remember: To store that variable in the object you should use the `self` keyword.  \n",
    "Example : \n",
    "```python\n",
    "def __init__(self, name, ...)\n",
    "      self.name = name\n",
    "      ...\n",
    "```"
   ]
  },
  {
   "cell_type": "code",
   "execution_count": null,
   "metadata": {},
   "outputs": [],
   "source": [
    "# your code here\n",
    "#Feito na primeira parte"
   ]
  },
  {
   "cell_type": "markdown",
   "metadata": {},
   "source": [
    "## Assign the variable `my_car` to the class you created"
   ]
  },
  {
   "cell_type": "code",
   "execution_count": 26,
   "metadata": {},
   "outputs": [],
   "source": [
    "# your code here\n",
    "#Feito na primeira parte"
   ]
  },
  {
   "cell_type": "markdown",
   "metadata": {
    "colab_type": "text",
    "id": "y5iAyMKy1kz6"
   },
   "source": [
    "## Access the attribute\n",
    "\n",
    "- You can write `my_car.<TAB>` to check what attributes or methods your object contains."
   ]
  },
  {
   "cell_type": "code",
   "execution_count": 27,
   "metadata": {},
   "outputs": [
    {
     "name": "stdout",
     "output_type": "stream",
     "text": [
      "Amarelo 1.6\n"
     ]
    }
   ],
   "source": [
    "# your code here\n",
    "print(my_car.Cor, my_car.Motorizacao)"
   ]
  },
  {
   "cell_type": "markdown",
   "metadata": {},
   "source": [
    "## Inheritance"
   ]
  },
  {
   "cell_type": "markdown",
   "metadata": {},
   "source": [
    "- Create a class called `Uber` that inherits from a `Car`.\n",
    "- It will contains the same attributes and functions of the class, but we will add 2 new attributes that only Ubers cars have.\n",
    "- Create the `category` of the Uber (UberX, Comfort, UberBag, etc) and `one more attribute of your choice`."
   ]
  },
  {
   "cell_type": "code",
   "execution_count": 17,
   "metadata": {},
   "outputs": [
    {
     "name": "stdout",
     "output_type": "stream",
     "text": [
      "O veiculo VW é classificado como Black.\n",
      "Black\n"
     ]
    }
   ],
   "source": [
    "#Your code here\n",
    "class Uber(Car):\n",
    "    def __init__(self,Cor,Montadora,Cambio,Portas,Motorizacao):\n",
    "        \n",
    "        super().__init__(Cor,Montadora,Cambio,Portas,Motorizacao)\n",
    "        \n",
    "        if self.Portas <4:\n",
    "            self.Category = 'Nao se aplica, necessario ter 4 portas'\n",
    "        elif self.Motorizacao <= 1.0:\n",
    "            if Montadora in ('VW','GM','Ford'):\n",
    "                self.Category = 'Comfort'\n",
    "            else:\n",
    "                self.Category = 'UberX'\n",
    "        else:\n",
    "            self.Category = 'Black'\n",
    "\n",
    "        if self.Portas ==5:\n",
    "            self.CategoryBag = ' Bag'\n",
    "        else:\n",
    "            self.CategoryBag = ''\n",
    "\n",
    "    def __repr__(self):\n",
    "        return f'O veiculo {self.Montadora} é classificado como {self.Category}{self.CategoryBag}.'\n",
    "    \n",
    "CatUber = Uber(my_car.Cor,my_car.Montadora,my_car.Cambio,my_car.Portas,my_car.Motorizacao)\n",
    "\n",
    "print(CatUber)\n",
    "print(CatUber.Category)"
   ]
  },
  {
   "cell_type": "markdown",
   "metadata": {},
   "source": [
    "### Extending the `Car` class.\n",
    "- Create a method for the `Uber` class that calculates the `price of the run`.\n",
    "- Use the distance in `km` and time spent in `minutes`. \n",
    "\n",
    "```python\n",
    "class Uber(Car):\n",
    "    def __init__(self,...)\n",
    "        ...\n",
    "        \n",
    "    def get_price(self, km, time):\n",
    "        ...\n",
    "        return final_price\n",
    "```\n",
    "\n",
    "You can use this table price as reference:\n",
    "```python\n",
    "final_price = (km_factor * km) + (time_factor * time_minutes)\n",
    "```\n",
    "\n",
    "| Category | km_factor | time_factor |\n",
    "| --- | --- | --- |\n",
    "| UberX | 1.00 | 0.50 |\n",
    "| Comfort | 1.20 | 0.60 |"
   ]
  },
  {
   "cell_type": "code",
   "execution_count": 30,
   "metadata": {},
   "outputs": [
    {
     "name": "stdout",
     "output_type": "stream",
     "text": [
      "Amarelo VW Automatico 4 1.6 Black \n"
     ]
    },
    {
     "ename": "AttributeError",
     "evalue": "'PrecoCorrida' object has no attribute 'km_factor'",
     "output_type": "error",
     "traceback": [
      "\u001b[0;31m---------------------------------------------------------------------------\u001b[0m",
      "\u001b[0;31mAttributeError\u001b[0m                            Traceback (most recent call last)",
      "\u001b[0;32m<ipython-input-30-f48e9482a9c7>\u001b[0m in \u001b[0;36m<module>\u001b[0;34m\u001b[0m\n\u001b[1;32m     21\u001b[0m \u001b[0;31m#InputPreco=PrecoCorrida(CatUber.Cor,CatUber.Montadora,CatUber.Cambio,CatUber.Portas,CatUber.Motorizacao)\u001b[0m\u001b[0;34m\u001b[0m\u001b[0;34m\u001b[0m\u001b[0;34m\u001b[0m\u001b[0m\n\u001b[1;32m     22\u001b[0m \u001b[0;31m#InputPreco.Category+InputPreco.CategoryBag\u001b[0m\u001b[0;34m\u001b[0m\u001b[0;34m\u001b[0m\u001b[0;34m\u001b[0m\u001b[0m\n\u001b[0;32m---> 23\u001b[0;31m \u001b[0mPreco\u001b[0m\u001b[0;34m=\u001b[0m\u001b[0mPrecoCorrida\u001b[0m\u001b[0;34m(\u001b[0m\u001b[0mCatUber\u001b[0m\u001b[0;34m.\u001b[0m\u001b[0mCor\u001b[0m\u001b[0;34m,\u001b[0m\u001b[0mCatUber\u001b[0m\u001b[0;34m.\u001b[0m\u001b[0mMontadora\u001b[0m\u001b[0;34m,\u001b[0m\u001b[0mCatUber\u001b[0m\u001b[0;34m.\u001b[0m\u001b[0mCambio\u001b[0m\u001b[0;34m,\u001b[0m\u001b[0mCatUber\u001b[0m\u001b[0;34m.\u001b[0m\u001b[0mPortas\u001b[0m\u001b[0;34m,\u001b[0m\u001b[0mCatUber\u001b[0m\u001b[0;34m.\u001b[0m\u001b[0mMotorizacao\u001b[0m\u001b[0;34m)\u001b[0m\u001b[0;34m.\u001b[0m\u001b[0mget_price\u001b[0m\u001b[0;34m(\u001b[0m\u001b[0;36m15\u001b[0m\u001b[0;34m,\u001b[0m\u001b[0;36m5\u001b[0m\u001b[0;34m)\u001b[0m\u001b[0;34m\u001b[0m\u001b[0;34m\u001b[0m\u001b[0m\n\u001b[0m",
      "\u001b[0;32m<ipython-input-30-f48e9482a9c7>\u001b[0m in \u001b[0;36mget_price\u001b[0;34m(self, km, time)\u001b[0m\n\u001b[1;32m     15\u001b[0m             \u001b[0mself\u001b[0m\u001b[0;34m.\u001b[0m\u001b[0mtime_factor\u001b[0m \u001b[0;34m=\u001b[0m \u001b[0;36m1.2\u001b[0m \u001b[0;34m*\u001b[0m \u001b[0mself\u001b[0m\u001b[0;34m.\u001b[0m\u001b[0mtime_factor\u001b[0m\u001b[0;34m\u001b[0m\u001b[0;34m\u001b[0m\u001b[0m\n\u001b[1;32m     16\u001b[0m \u001b[0;34m\u001b[0m\u001b[0m\n\u001b[0;32m---> 17\u001b[0;31m         \u001b[0mself\u001b[0m\u001b[0;34m.\u001b[0m\u001b[0mfinal_price\u001b[0m \u001b[0;34m=\u001b[0m \u001b[0;34m(\u001b[0m\u001b[0mself\u001b[0m\u001b[0;34m.\u001b[0m\u001b[0mkm_factor\u001b[0m \u001b[0;34m*\u001b[0m \u001b[0mkm\u001b[0m\u001b[0;34m)\u001b[0m \u001b[0;34m+\u001b[0m \u001b[0;34m(\u001b[0m\u001b[0mself\u001b[0m\u001b[0;34m.\u001b[0m\u001b[0mtime_factor\u001b[0m \u001b[0;34m*\u001b[0m \u001b[0mtime\u001b[0m\u001b[0;34m)\u001b[0m\u001b[0;34m\u001b[0m\u001b[0;34m\u001b[0m\u001b[0m\n\u001b[0m\u001b[1;32m     18\u001b[0m \u001b[0;34m\u001b[0m\u001b[0m\n\u001b[1;32m     19\u001b[0m \u001b[0mprint\u001b[0m\u001b[0;34m(\u001b[0m\u001b[0mCatUber\u001b[0m\u001b[0;34m.\u001b[0m\u001b[0mCor\u001b[0m\u001b[0;34m,\u001b[0m\u001b[0mCatUber\u001b[0m\u001b[0;34m.\u001b[0m\u001b[0mMontadora\u001b[0m\u001b[0;34m,\u001b[0m\u001b[0mCatUber\u001b[0m\u001b[0;34m.\u001b[0m\u001b[0mCambio\u001b[0m\u001b[0;34m,\u001b[0m\u001b[0mCatUber\u001b[0m\u001b[0;34m.\u001b[0m\u001b[0mPortas\u001b[0m\u001b[0;34m,\u001b[0m\u001b[0mCatUber\u001b[0m\u001b[0;34m.\u001b[0m\u001b[0mMotorizacao\u001b[0m\u001b[0;34m,\u001b[0m\u001b[0mCatUber\u001b[0m\u001b[0;34m.\u001b[0m\u001b[0mCategory\u001b[0m\u001b[0;34m,\u001b[0m\u001b[0mCatUber\u001b[0m\u001b[0;34m.\u001b[0m\u001b[0mCategoryBag\u001b[0m\u001b[0;34m)\u001b[0m\u001b[0;34m\u001b[0m\u001b[0;34m\u001b[0m\u001b[0m\n",
      "\u001b[0;31mAttributeError\u001b[0m: 'PrecoCorrida' object has no attribute 'km_factor'"
     ]
    }
   ],
   "source": [
    "#Your code here\n",
    "class PrecoCorrida(Uber):\n",
    "       \n",
    "    def get_price(self, km, time):\n",
    "                \n",
    "        if self.Category == 'Comfort':\n",
    "            self.km_factor = 1.2\n",
    "            self.time_factor = .6\n",
    "        elif self.Category == 'UberX':\n",
    "            self.km_factor = 1.0\n",
    "            self.time_factor = .5\n",
    "\n",
    "        if self.CategoryBag == ' Bag':\n",
    "            self.km_factor = 1.2 * self.km_factor\n",
    "            self.time_factor = 1.2 * self.time_factor           \n",
    "    \n",
    "        self.final_price = (self.km_factor * km) + (self.time_factor * time)\n",
    "\n",
    "print(CatUber.Cor,CatUber.Montadora,CatUber.Cambio,CatUber.Portas,CatUber.Motorizacao,CatUber.Category,CatUber.CategoryBag)\n",
    "      \n",
    "#InputPreco=PrecoCorrida(CatUber.Cor,CatUber.Montadora,CatUber.Cambio,CatUber.Portas,CatUber.Motorizacao)\n",
    "#InputPreco.Category+InputPreco.CategoryBag\n",
    "Preco=PrecoCorrida(CatUber.Cor,CatUber.Montadora,CatUber.Cambio,CatUber.Portas,CatUber.Motorizacao).get_price(15,5)"
   ]
  },
  {
   "cell_type": "markdown",
   "metadata": {},
   "source": [
    "Now, calculate the price of your `Uber` from:\n",
    "- A `UberX` going from Ironhack to Guarulhos Airport (`30.5km, 1h:20min`)\n",
    "- A `Uber Comfort` going from Ironhack to Guarulhos Airport (`30.5km, 1h:20min`)"
   ]
  },
  {
   "cell_type": "code",
   "execution_count": null,
   "metadata": {},
   "outputs": [],
   "source": [
    "#Your code here\n"
   ]
  },
  {
   "cell_type": "markdown",
   "metadata": {},
   "source": [
    "----------------------------------------------------------"
   ]
  },
  {
   "cell_type": "markdown",
   "metadata": {},
   "source": [
    "# Bonus - Object Oriented Programming "
   ]
  },
  {
   "cell_type": "markdown",
   "metadata": {},
   "source": [
    "## Private Variables"
   ]
  },
  {
   "cell_type": "markdown",
   "metadata": {},
   "source": [
    "When we create a class it is possible set attributes that are privately, therefore that can only be accessed and modified if you declarate this."
   ]
  },
  {
   "cell_type": "markdown",
   "metadata": {},
   "source": [
    "- Now let's practice private attributes on classes.  \n",
    "- Firt of all, assign the class `RegisterPerson` to a variable `person`.\n",
    "You can use the code below:\n",
    "```python\n",
    "class RegisterPerson:\n",
    "    def __init__(self, name):\n",
    "        self.name = name\n",
    "```"
   ]
  },
  {
   "cell_type": "code",
   "execution_count": null,
   "metadata": {},
   "outputs": [],
   "source": [
    "# Your code here"
   ]
  },
  {
   "cell_type": "markdown",
   "metadata": {},
   "source": [
    "- Check the attribute `person.name`"
   ]
  },
  {
   "cell_type": "code",
   "execution_count": null,
   "metadata": {},
   "outputs": [],
   "source": [
    "# Your code here"
   ]
  },
  {
   "cell_type": "markdown",
   "metadata": {},
   "source": [
    "- Since is a private form, we don't want anyone changing or accessing the data inside this form.\n",
    "- You can transform your  attribute to private adding a double underscore. `self.__name`\n",
    "- Check the code below and assign the class `RegisterPerson` to a variable `person2`. Will you be able to access the attribute `person2.name` ?\n",
    "\n",
    "```python\n",
    "class RegisterPerson:\n",
    "    def __init__(self, name):\n",
    "        self.__name = name\n",
    "```"
   ]
  },
  {
   "cell_type": "code",
   "execution_count": null,
   "metadata": {},
   "outputs": [],
   "source": [
    "# Your code here"
   ]
  },
  {
   "cell_type": "markdown",
   "metadata": {},
   "source": [
    "## Property - \"getter\""
   ]
  },
  {
   "cell_type": "markdown",
   "metadata": {},
   "source": [
    "- To access our name attribute, we should use the built-in function `@property`. It is called \"getter\"\n",
    "\n",
    "```python\n",
    "class RegisterPerson:\n",
    "    def __init__(self, name):\n",
    "        self.__name = name\n",
    "  \n",
    "    @property\n",
    "    def name(self):\n",
    "        return self.__name \n",
    "    \n",
    "person3 = RegisterPerson('Marcus')\n",
    "person3.name    \n",
    "    \n",
    "```"
   ]
  },
  {
   "cell_type": "markdown",
   "metadata": {},
   "source": [
    "- Test the code above. Are you able the get the name?"
   ]
  },
  {
   "cell_type": "code",
   "execution_count": null,
   "metadata": {},
   "outputs": [],
   "source": [
    "# Your code here"
   ]
  },
  {
   "cell_type": "markdown",
   "metadata": {},
   "source": [
    "## Setter"
   ]
  },
  {
   "cell_type": "markdown",
   "metadata": {},
   "source": [
    "- We also have the setter method. It is used for changing the attribute.\n",
    "- Run the code below:\n",
    "\n",
    "```python\n",
    "class RegisterPerson:\n",
    "    def __init__(self, name):\n",
    "        self.__name = name\n",
    "  \n",
    "    @property\n",
    "    def name(self):\n",
    "        return self.__name\n",
    "    \n",
    "    @name.setter\n",
    "    def name(self, value):\n",
    "        self.__name = value\n",
    "\n",
    "person4 = RegisterPerson('Marcus')\n",
    "person4.name = 'Marcus Silva'\n",
    "person4.name\n",
    "        \n",
    "```"
   ]
  },
  {
   "cell_type": "code",
   "execution_count": null,
   "metadata": {},
   "outputs": [],
   "source": [
    "# Your code here"
   ]
  },
  {
   "cell_type": "markdown",
   "metadata": {},
   "source": [
    "Now it is time to practice. \n",
    "- Try to add the `user_id`, `address` and `phone` attributes to your `RegisterPerson` class. \n",
    "- Make this attributes privates and create the `getters` and `setters` for them.\n",
    "- Create a function inside the class that return a form with the person data."
   ]
  },
  {
   "cell_type": "code",
   "execution_count": null,
   "metadata": {},
   "outputs": [],
   "source": [
    "# Your code here"
   ]
  }
 ],
 "metadata": {
  "colab": {
   "collapsed_sections": [],
   "name": "challenge-01.ipynb",
   "provenance": []
  },
  "kernelspec": {
   "display_name": "Python 3",
   "language": "python",
   "name": "python3"
  },
  "language_info": {
   "codemirror_mode": {
    "name": "ipython",
    "version": 3
   },
   "file_extension": ".py",
   "mimetype": "text/x-python",
   "name": "python",
   "nbconvert_exporter": "python",
   "pygments_lexer": "ipython3",
   "version": "3.8.8"
  },
  "toc": {
   "base_numbering": 1,
   "nav_menu": {},
   "number_sections": true,
   "sideBar": true,
   "skip_h1_title": false,
   "title_cell": "Table of Contents",
   "title_sidebar": "Contents",
   "toc_cell": false,
   "toc_position": {},
   "toc_section_display": true,
   "toc_window_display": false
  }
 },
 "nbformat": 4,
 "nbformat_minor": 1
}
