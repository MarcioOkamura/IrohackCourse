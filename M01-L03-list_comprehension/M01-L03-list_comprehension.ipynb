{
 "cells": [
  {
   "cell_type": "markdown",
   "metadata": {
    "id": "eub8AQ_jZWSy"
   },
   "source": [
    "![Ironhack logo](https://i.imgur.com/1QgrNNw.png)\n",
    "\n",
    "# Lab | List Comprehensions\n",
    "\n",
    "## Introduction\n",
    "\n",
    "As you have learned list comprehensions allow you to efficiently perform iteration, storage, and even filtering based on conditional statements. List comprehensions are useful for a variety of things, so it is critical that you get sufficient practice and become skilled at identifying when to use them.\n",
    "\n",
    "In this lab, you will practice constructing list comprehensions and using them to extract and filter information in a variety of scenarios. You will work on your own but remember the teaching staff is at your service whenever you encounter problems.\n",
    "\n",
    "## Getting Started\n",
    "\n",
    "There are a bunch of questions to be solved. If you get stuck in one exercise you can skip to the next one. Read each instruction carefully and provide your answer beneath it.\n",
    "\n",
    "\n",
    "## Resources\n",
    "\n",
    "- [List Comprehensions | Python Documentation](https://docs.python.org/3/tutorial/datastructures.html#list-comprehensions)"
   ]
  },
  {
   "cell_type": "markdown",
   "metadata": {
    "id": "vfx-khN9ZMSS"
   },
   "source": [
    "# List Comprehensions\n",
    "\n",
    "Complete the following set of exercises to solidify your knowledge of list comprehensions."
   ]
  },
  {
   "cell_type": "markdown",
   "metadata": {},
   "source": [
    "The module **OS**  allows us to operate on underlying Operating System tasks, irrespective of it being a Windows Platform, Macintosh or Linux. In this lesson, we will review these functions and what we can do with these."
   ]
  },
  {
   "cell_type": "code",
   "execution_count": 1,
   "metadata": {
    "id": "QEZn1-ZPZMST"
   },
   "outputs": [],
   "source": [
    "import os"
   ]
  },
  {
   "cell_type": "markdown",
   "metadata": {
    "id": "bHQpfFkiZMSZ"
   },
   "source": [
    "#### 1. Use a list comprehension to create and print a list of consecutive integers starting with 1 and ending with 50.\n",
    "Expected output:\n",
    "```python\n",
    "[1, 2, 3, 4, 5, 6, 7, 8, 9, 10, 11, 12, 13, 14, 15, 16, 17, 18, 19, 20, 21, 22, 23, 24, 25, 26, 27, 28, 29, 30, 31, 32, 33, 34, 35, 36, 37, 38, 39, 40, 41, 42, 43, 44, 45, 46, 47, 48, 49, 50]\n",
    "```"
   ]
  },
  {
   "cell_type": "code",
   "execution_count": 6,
   "metadata": {
    "id": "4Bj7L5yPZMSa"
   },
   "outputs": [
    {
     "name": "stdout",
     "output_type": "stream",
     "text": [
      "[1, 2, 3, 4, 5, 6, 7, 8, 9, 10, 11, 12, 13, 14, 15, 16, 17, 18, 19, 20, 21, 22, 23, 24, 25, 26, 27, 28, 29, 30, 31, 32, 33, 34, 35, 36, 37, 38, 39, 40, 41, 42, 43, 44, 45, 46, 47, 48, 49, 50]\n"
     ]
    }
   ],
   "source": [
    "#Your code here\n",
    "lista_compre = [NInt+1 for NInt in range(50) ]\n",
    "\n",
    "print(lista_compre)"
   ]
  },
  {
   "cell_type": "markdown",
   "metadata": {
    "id": "mkUi-dxaZMSe"
   },
   "source": [
    "#### 2. Use a list comprehension to create and print a list of even numbers starting with 2 and ending with 200.\n",
    "Expected output:\n",
    "```python\n",
    "[2, 4, 6, 8, 10, 12, 14, 16, 18, 20, 22, 24, 26, 28, 30, 32, 34, 36, 38, 40, 42, 44, 46, 48, 50, 52, 54, 56, 58, 60, 62, 64, 66, 68, 70, 72, 74, 76, 78, 80, 82, 84, 86, 88, 90, 92, 94, 96, 98, 100, 102, 104, 106, 108, 110, 112, 114, 116, 118, 120, 122, 124, 126, 128, 130, 132, 134, 136, 138, 140, 142, 144, 146, 148, 150, 152, 154, 156, 158, 160, 162, 164, 166, 168, 170, 172, 174, 176, 178, 180, 182, 184, 186, 188, 190, 192, 194, 196, 198, 200]\n",
    "```"
   ]
  },
  {
   "cell_type": "code",
   "execution_count": 10,
   "metadata": {
    "id": "T7gaeGOWZMSe"
   },
   "outputs": [
    {
     "name": "stdout",
     "output_type": "stream",
     "text": [
      "[2, 4, 6, 8, 10, 12, 14, 16, 18, 20, 22, 24, 26, 28, 30, 32, 34, 36, 38, 40, 42, 44, 46, 48, 50, 52, 54, 56, 58, 60, 62, 64, 66, 68, 70, 72, 74, 76, 78, 80, 82, 84, 86, 88, 90, 92, 94, 96, 98, 100, 102, 104, 106, 108, 110, 112, 114, 116, 118, 120, 122, 124, 126, 128, 130, 132, 134, 136, 138, 140, 142, 144, 146, 148, 150, 152, 154, 156, 158, 160, 162, 164, 166, 168, 170, 172, 174, 176, 178, 180, 182, 184, 186, 188, 190, 192, 194, 196, 198, 200]\n"
     ]
    }
   ],
   "source": [
    "# Your code here\n",
    "\n",
    "#lista_compre_pares = [2* (NInt+1) for NInt in range(100) ]\n",
    "lista_compre_pares = [NInt for NInt in range(201) if NInt % 2 ==0 and NInt > 0]\n",
    "\n",
    "print(lista_compre_pares)"
   ]
  },
  {
   "cell_type": "markdown",
   "metadata": {
    "id": "bDse8bdQZMSi"
   },
   "source": [
    "#### 3. Use a list comprehension to create and print a list containing all elements of the 10 x 4 array below."
   ]
  },
  {
   "cell_type": "code",
   "execution_count": 11,
   "metadata": {
    "id": "o73t-HN7ZMSj"
   },
   "outputs": [],
   "source": [
    "a = [[0.84062117, 0.48006452, 0.7876326 , 0.77109654],\n",
    "       [0.44409793, 0.09014516, 0.81835917, 0.87645456],\n",
    "       [0.7066597 , 0.09610873, 0.41247947, 0.57433389],\n",
    "       [0.29960807, 0.42315023, 0.34452557, 0.4751035 ],\n",
    "       [0.17003563, 0.46843998, 0.92796258, 0.69814654],\n",
    "       [0.41290051, 0.19561071, 0.16284783, 0.97016248],\n",
    "       [0.71725408, 0.87702738, 0.31244595, 0.76615487],\n",
    "       [0.20754036, 0.57871812, 0.07214068, 0.40356048],\n",
    "       [0.12149553, 0.53222417, 0.9976855 , 0.12536346],\n",
    "       [0.80930099, 0.50962849, 0.94555126, 0.33364763]];"
   ]
  },
  {
   "cell_type": "markdown",
   "metadata": {
    "id": "g0g66V5aZy-S"
   },
   "source": [
    "Expected output:\n",
    "```python\n",
    "[0.84062117, 0.48006452, 0.7876326, 0.77109654, 0.44409793, 0.09014516, 0.81835917, 0.87645456, 0.7066597, 0.09610873, 0.41247947, 0.57433389, 0.29960807, 0.42315023, 0.34452557, 0.4751035, 0.17003563, 0.46843998, 0.92796258, 0.69814654, 0.41290051, 0.19561071, 0.16284783, 0.97016248, 0.71725408, 0.87702738, 0.31244595, 0.76615487, 0.20754036, 0.57871812, 0.07214068, 0.40356048, 0.12149553, 0.53222417, 0.9976855, 0.12536346, 0.80930099, 0.50962849, 0.94555126, 0.33364763]\n",
    "```"
   ]
  },
  {
   "cell_type": "code",
   "execution_count": 13,
   "metadata": {
    "id": "XzwJ-84-ZMSm"
   },
   "outputs": [
    {
     "name": "stdout",
     "output_type": "stream",
     "text": [
      "[0.84062117, 0.48006452, 0.7876326, 0.77109654, 0.44409793, 0.09014516, 0.81835917, 0.87645456, 0.7066597, 0.09610873, 0.41247947, 0.57433389, 0.29960807, 0.42315023, 0.34452557, 0.4751035, 0.17003563, 0.46843998, 0.92796258, 0.69814654, 0.41290051, 0.19561071, 0.16284783, 0.97016248, 0.71725408, 0.87702738, 0.31244595, 0.76615487, 0.20754036, 0.57871812, 0.07214068, 0.40356048, 0.12149553, 0.53222417, 0.9976855, 0.12536346, 0.80930099, 0.50962849, 0.94555126, 0.33364763]\n"
     ]
    }
   ],
   "source": [
    "# Your code here\n",
    "\n",
    "lista_continua = [item for lista in a for item in lista]\n",
    "print(lista_continua)"
   ]
  },
  {
   "cell_type": "markdown",
   "metadata": {
    "id": "-zhOMEmDZMSq"
   },
   "source": [
    "#### 4. Add a condition to the list comprehension above so that only values greater than or equal to 0.5 are printed.\n",
    "Expected output:\n",
    "```python\n",
    "[0.84062117, 0.7876326, 0.77109654, 0.81835917, 0.87645456, 0.7066597, 0.57433389, 0.92796258, 0.69814654, 0.97016248, 0.71725408, 0.87702738, 0.76615487, 0.57871812, 0.53222417, 0.9976855, 0.80930099, 0.50962849, 0.94555126]\n",
    "```"
   ]
  },
  {
   "cell_type": "code",
   "execution_count": 14,
   "metadata": {
    "id": "1GGXubC7ZMSr"
   },
   "outputs": [
    {
     "name": "stdout",
     "output_type": "stream",
     "text": [
      "[0.84062117, 0.7876326, 0.77109654, 0.81835917, 0.87645456, 0.7066597, 0.57433389, 0.92796258, 0.69814654, 0.97016248, 0.71725408, 0.87702738, 0.76615487, 0.57871812, 0.53222417, 0.9976855, 0.80930099, 0.50962849, 0.94555126]\n"
     ]
    }
   ],
   "source": [
    "# Your code here\n",
    "\n",
    "lista_continua_if = [item for lista in a for item in lista if item >= 0.5]\n",
    "print(lista_continua_if)"
   ]
  },
  {
   "cell_type": "markdown",
   "metadata": {
    "id": "LdYmT12sZMSz"
   },
   "source": [
    "#### 5. Use a list comprehension to create and print a list containing all elements of the 5 x 2 x 3 array below."
   ]
  },
  {
   "cell_type": "code",
   "execution_count": 16,
   "metadata": {
    "id": "1jZnKGyHZMS1"
   },
   "outputs": [],
   "source": [
    "b = [[[0.55867166, 0.06210792, 0.08147297],\n",
    "        [0.82579068, 0.91512478, 0.06833034]],\n",
    "\n",
    "       [[0.05440634, 0.65857693, 0.30296619],\n",
    "        [0.06769833, 0.96031863, 0.51293743]],\n",
    "\n",
    "       [[0.09143215, 0.71893382, 0.45850679],\n",
    "        [0.58256464, 0.59005654, 0.56266457]],\n",
    "\n",
    "       [[0.71600294, 0.87392666, 0.11434044],\n",
    "        [0.8694668 , 0.65669313, 0.10708681]],\n",
    "\n",
    "       [[0.07529684, 0.46470767, 0.47984544],\n",
    "        [0.65368638, 0.14901286, 0.23760688]]];"
   ]
  },
  {
   "cell_type": "markdown",
   "metadata": {
    "id": "UiLqyywYaJPu"
   },
   "source": [
    "Expected output:\n",
    "```python\n",
    "[0.55867166, 0.06210792, 0.08147297, 0.82579068, 0.91512478, 0.06833034, 0.05440634, 0.65857693, 0.30296619, 0.06769833, 0.96031863, 0.51293743, 0.09143215, 0.71893382, 0.45850679, 0.58256464, 0.59005654, 0.56266457, 0.71600294, 0.87392666, 0.11434044, 0.8694668, 0.65669313, 0.10708681, 0.07529684, 0.46470767, 0.47984544, 0.65368638, 0.14901286, 0.23760688]\n",
    "```"
   ]
  },
  {
   "cell_type": "code",
   "execution_count": 17,
   "metadata": {
    "id": "HxRNgI7eZMS_"
   },
   "outputs": [
    {
     "name": "stdout",
     "output_type": "stream",
     "text": [
      "[0.55867166, 0.06210792, 0.08147297, 0.82579068, 0.91512478, 0.06833034, 0.05440634, 0.65857693, 0.30296619, 0.06769833, 0.96031863, 0.51293743, 0.09143215, 0.71893382, 0.45850679, 0.58256464, 0.59005654, 0.56266457, 0.71600294, 0.87392666, 0.11434044, 0.8694668, 0.65669313, 0.10708681, 0.07529684, 0.46470767, 0.47984544, 0.65368638, 0.14901286, 0.23760688]\n"
     ]
    }
   ],
   "source": [
    "lista_5por2por3 = [item for listalista in b for lista in listalista for item in lista]\n",
    "print(lista_5por2por3)"
   ]
  },
  {
   "cell_type": "markdown",
   "metadata": {
    "id": "6Xz4e-QNZMTC"
   },
   "source": [
    "#### 6. Add a condition to the list comprehension above so that the last value in each subarray is printed, but only if it is less than or equal to 0.5.\n",
    "Expected output:\n",
    "```python\n",
    "[0.08147297, 0.06833034, 0.30296619, 0.45850679, 0.11434044, 0.10708681, 0.47984544, 0.23760688]\n",
    "```"
   ]
  },
  {
   "cell_type": "code",
   "execution_count": 50,
   "metadata": {
    "id": "y39l8NlxZMTD"
   },
   "outputs": [
    {
     "name": "stdout",
     "output_type": "stream",
     "text": [
      "[0.08147297, 0.06833034, 0.30296619, 0.45850679, 0.11434044, 0.10708681, 0.47984544, 0.23760688]\n"
     ]
    }
   ],
   "source": [
    "lista_5por2por3_ultimo = [item for listalista in b for lista in listalista for item in lista if item <=.5 and item==lista[-1]]\n",
    "print(lista_5por2por3_ultimo)"
   ]
  },
  {
   "cell_type": "code",
   "execution_count": 53,
   "metadata": {},
   "outputs": [
    {
     "name": "stdout",
     "output_type": "stream",
     "text": [
      "[0.08147297, 0.06833034, 0.30296619, 0.45850679, 0.11434044, 0.10708681, 0.47984544, 0.23760688]\n"
     ]
    }
   ],
   "source": [
    "versao2 = [lista[-1] for listalista in b for lista in listalista if lista[-1] <=.5]\n",
    "print(versao2)"
   ]
  },
  {
   "cell_type": "markdown",
   "metadata": {
    "id": "3SFOjR54ZMTG"
   },
   "source": [
    "#### 7. Use a list comprehension to select and print the names of all CSV files in the */data* directory.\n",
    "\n",
    "**Expected output:**\n",
    "```python\n",
    "['sample_file_0.csv', 'sample_file_1.csv', ..., 'sample_file_9.csv']\n",
    "```\n",
    "\n",
    "**Hint:**\n",
    "\n",
    "Utilize [os.listdir](https://docs.python.org/3/library/os.html) to read the files of directory"
   ]
  },
  {
   "cell_type": "code",
   "execution_count": 2,
   "metadata": {
    "id": "2lL4H54RZMTH"
   },
   "outputs": [
    {
     "name": "stdout",
     "output_type": "stream",
     "text": [
      "['sample_file_8.txt', 'sample_file_9.txt', 'sample_file_1.csv', 'sample_file_0.csv', 'sample_file_2.csv', 'sample_file_3.csv', 'sample_file_7.csv', 'sample_file_6.csv', 'sample_file_4.csv', 'sample_file_5.csv', 'sample_file_8.csv', 'sample_file_9.csv', 'sample_file_2.txt', 'sample_file_3.txt', 'sample_file_1.txt', 'sample_file_0.txt', 'sample_file_4.txt', 'sample_file_5.txt', 'sample_file_7.txt', 'sample_file_6.txt']\n"
     ]
    }
   ],
   "source": [
    "# Your code here\n",
    "#/Users/Lewincarol/Downloads/M01-L03-list_comprehension\n",
    "\n",
    "\n",
    "lista_arquivo = os.listdir('/Users/Lewincarol/Downloads/M01-L03-list_comprehension/data/')\n",
    "print(lista_arquivo)"
   ]
  },
  {
   "cell_type": "code",
   "execution_count": 65,
   "metadata": {},
   "outputs": [
    {
     "data": {
      "text/plain": [
       "str"
      ]
     },
     "execution_count": 65,
     "metadata": {},
     "output_type": "execute_result"
    }
   ],
   "source": [
    "type(os.listdir)\n",
    "#print(os.listdir)"
   ]
  },
  {
   "cell_type": "code",
   "execution_count": 49,
   "metadata": {},
   "outputs": [
    {
     "ename": "TypeError",
     "evalue": "'str' object is not callable",
     "output_type": "error",
     "traceback": [
      "\u001b[0;31m---------------------------------------------------------------------------\u001b[0m",
      "\u001b[0;31mTypeError\u001b[0m                                 Traceback (most recent call last)",
      "\u001b[0;32m<ipython-input-49-683790d9e342>\u001b[0m in \u001b[0;36m<module>\u001b[0;34m\u001b[0m\n\u001b[0;32m----> 1\u001b[0;31m \u001b[0mos\u001b[0m\u001b[0;34m.\u001b[0m\u001b[0mlistdir\u001b[0m\u001b[0;34m(\u001b[0m\u001b[0;34m'/Users/Lewincarol/Downloads/M01-L03-list_comprehension/data/'\u001b[0m\u001b[0;34m)\u001b[0m\u001b[0;34m\u001b[0m\u001b[0;34m\u001b[0m\u001b[0m\n\u001b[0m\u001b[1;32m      2\u001b[0m \u001b[0;31m#file_list = [f for f in os.listdir('./data') if f.endswith('.csv')]\u001b[0m\u001b[0;34m\u001b[0m\u001b[0;34m\u001b[0m\u001b[0;34m\u001b[0m\u001b[0m\n",
      "\u001b[0;31mTypeError\u001b[0m: 'str' object is not callable"
     ]
    }
   ],
   "source": [
    "os.\n",
    "#os.listdir('/Users/Lewincarol/Downloads/M01-L03-list_comprehension/data/')\n",
    "#file_list = [f for f in os.listdir('./data') if f.endswith('.csv')]"
   ]
  },
  {
   "cell_type": "markdown",
   "metadata": {
    "id": "jT9tCgx7ZMTM"
   },
   "source": [
    "# Bonus"
   ]
  },
  {
   "cell_type": "markdown",
   "metadata": {
    "id": "20MMZagNZMTN"
   },
   "source": [
    "Try to solve these katas (training drill) using list comprehensions."
   ]
  },
  {
   "cell_type": "markdown",
   "metadata": {
    "id": "2lI4rPWkZMTP"
   },
   "source": [
    "8. Given a set of numbers, return the additive inverse of each. Each positive becomes negatives, and the negatives become positives.\n",
    "https://www.codewars.com/kata/invert-values"
   ]
  },
  {
   "cell_type": "code",
   "execution_count": 5,
   "metadata": {
    "id": "yulC9QqKZMTQ"
   },
   "outputs": [
    {
     "name": "stdout",
     "output_type": "stream",
     "text": [
      "[-1, 1, -4, 3, 4, -5, 0]\n",
      "[1, -1, 4, -3, -4, 5, 0]\n"
     ]
    }
   ],
   "source": [
    "# Your code here\n",
    "\n",
    "lista_aleat = [-1,1,-4,3,4,-5,0]\n",
    "\n",
    "def invert(Numero):\n",
    "    return Numero * (-1)\n",
    "\n",
    "#print(invert(1))\n",
    "\n",
    "inverter = [invert(item) for item in lista_aleat]\n",
    "print(lista_aleat)\n",
    "print(inverter)"
   ]
  },
  {
   "cell_type": "markdown",
   "metadata": {
    "id": "ltwcvz9IZMTT"
   },
   "source": [
    "9. Given a non-negative integer, return an array / a list of the individual digits in order.\n",
    "https://www.codewars.com/kata/digitize"
   ]
  },
  {
   "cell_type": "markdown",
   "metadata": {},
   "source": [
    "***Examples:***\n",
    "\n",
    "- `123 => [1,2,3]`\n",
    "\n",
    "- `1 => [1]`\n",
    "\n",
    "- `8675309 => [8,6,7,5,3,0,9]`"
   ]
  },
  {
   "cell_type": "code",
   "execution_count": 26,
   "metadata": {
    "id": "fxF5kSYOZMTU"
   },
   "outputs": [
    {
     "name": "stdout",
     "output_type": "stream",
     "text": [
      "['1', '2', '3']\n"
     ]
    }
   ],
   "source": [
    "# Your code here\n",
    "num=123\n",
    "a=str(num)\n",
    "#type(a)\n",
    "\n",
    "c=[digito for digito in a]\n",
    "print(c)"
   ]
  },
  {
   "cell_type": "markdown",
   "metadata": {
    "id": "AiPvaYtVZMTX"
   },
   "source": [
    "10. In this kata you will create a list comprehension that filters a list of non-negative integers and strings and returns a list with the strings filtered out.\n",
    "https://www.codewars.com/kata/list-filtering"
   ]
  },
  {
   "cell_type": "markdown",
   "metadata": {},
   "source": [
    "***Example:***\n",
    "\n",
    "`[1,2,'a','b'] => [1,2]`"
   ]
  },
  {
   "cell_type": "code",
   "execution_count": 88,
   "metadata": {
    "id": "zpLSNMS4ZMTY"
   },
   "outputs": [
    {
     "name": "stdout",
     "output_type": "stream",
     "text": [
      "[1, 2]\n"
     ]
    }
   ],
   "source": [
    "# Codigo errado, verificar depois\n",
    "import re\n",
    "\n",
    "entrada = [1,2,'a','b']\n",
    "\n",
    "saida=[digito for digito in entrada if type(digito) == int]\n",
    "\n",
    "print(saida)"
   ]
  },
  {
   "cell_type": "markdown",
   "metadata": {
    "id": "HvYH9R8-ZMTb"
   },
   "source": [
    "11. If we list all the natural numbers below 10 that are multiples of 3 or 5, we get 3, 5, 6 and 9. The sum of these multiples is 23.\n",
    "Finish the solution so that it returns the sum of all the multiples of 3 or 5 below the number passed in. \n",
    "https://www.codewars.com/kata/514b92a657cdc65150000006"
   ]
  },
  {
   "cell_type": "code",
   "execution_count": 79,
   "metadata": {
    "id": "-oxtaAwaZMTc"
   },
   "outputs": [
    {
     "name": "stdout",
     "output_type": "stream",
     "text": [
      "23\n"
     ]
    }
   ],
   "source": [
    "# Your code here\n",
    "\n",
    "import numpy as np\n",
    "\n",
    "lista=np.sum([numero+1 for numero in range(20) if ((numero+1)%3==0 or (numero+1)%5==0 )and numero+1 < 10])\n",
    "print(lista)\n",
    "\n",
    "#soma = 0\n",
    "#for i in lista:\n",
    "#    soma=soma+i\n",
    "#print(soma)\n",
    "\n",
    "#soma2=0\n",
    "#teste = np.sum(lista)\n",
    "#print(teste)\n",
    "#soma_lista = [item+item for item in lista]\n",
    "#print(soma_lista)"
   ]
  },
  {
   "cell_type": "markdown",
   "metadata": {
    "id": "q3TCqD10ZMTm"
   },
   "source": [
    "12. The Western Suburbs Croquet Club has two categories of membership, Senior and Open. They would like your help with an application form that will tell prospective members which category they will be placed.\n",
    "To be a senior, a member must be at least 55 years old and have a handicap greater than 7. In this croquet club, handicaps range from -2 to +26; the better the player the lower the handicap.\n",
    "\n",
    "https://www.codewars.com/kata/5502c9e7b3216ec63c0001aa"
   ]
  },
  {
   "cell_type": "markdown",
   "metadata": {},
   "source": [
    "Example:\n",
    "- input: `[[18, 20],[45, 2],[61, 12],[37, 6],[21, 21],[78, 9]]`\n",
    "- output:`[\"Open\", \"Open\", \"Senior\", \"Open\", \"Open\", \"Senior\"]`"
   ]
  },
  {
   "cell_type": "code",
   "execution_count": 85,
   "metadata": {
    "id": "RZt-FwneZMTn"
   },
   "outputs": [
    {
     "name": "stdout",
     "output_type": "stream",
     "text": [
      "[[18, 20], [45, 2], [61, 12], [37, 6], [21, 21], [78, 9]]\n",
      "['Open', 'Open', 'Senior', 'Open', 'Open', 'Senior']\n"
     ]
    }
   ],
   "source": [
    "# Your code here\n",
    "entrada = [[18, 20],[45, 2],[61, 12],[37, 6],[21, 21],[78, 9]]\n",
    "\n",
    "#Senior idade acima de 55 and handicap maior que 7\n",
    "def categoria (idade,handcap):    \n",
    "    if idade > 55 and handcap >=7:\n",
    "            nome_cat='Senior'\n",
    "    else: \n",
    "            nome_cat='Open'\n",
    "    \n",
    "    return nome_cat\n",
    " \n",
    "saida = [categoria(x,y) for x,y in entrada]\n",
    "print(entrada)\n",
    "print(saida)"
   ]
  }
 ],
 "metadata": {
  "colab": {
   "collapsed_sections": [],
   "name": "main.ipynb",
   "provenance": []
  },
  "kernelspec": {
   "display_name": "Python 3",
   "language": "python",
   "name": "python3"
  },
  "language_info": {
   "codemirror_mode": {
    "name": "ipython",
    "version": 3
   },
   "file_extension": ".py",
   "mimetype": "text/x-python",
   "name": "python",
   "nbconvert_exporter": "python",
   "pygments_lexer": "ipython3",
   "version": "3.8.8"
  },
  "metadata": {
   "interpreter": {
    "hash": "ac59ebe37160ed0dfa835113d9b8498d9f09ceb179beaac4002f036b9467c963"
   }
  },
  "toc": {
   "base_numbering": 1,
   "nav_menu": {},
   "number_sections": true,
   "sideBar": true,
   "skip_h1_title": false,
   "title_cell": "Table of Contents",
   "title_sidebar": "Contents",
   "toc_cell": false,
   "toc_position": {},
   "toc_section_display": true,
   "toc_window_display": false
  },
  "varInspector": {
   "cols": {
    "lenName": 16,
    "lenType": 16,
    "lenVar": 40
   },
   "kernels_config": {
    "python": {
     "delete_cmd_postfix": "",
     "delete_cmd_prefix": "del ",
     "library": "var_list.py",
     "varRefreshCmd": "print(var_dic_list())"
    },
    "r": {
     "delete_cmd_postfix": ") ",
     "delete_cmd_prefix": "rm(",
     "library": "var_list.r",
     "varRefreshCmd": "cat(var_dic_list()) "
    }
   },
   "types_to_exclude": [
    "module",
    "function",
    "builtin_function_or_method",
    "instance",
    "_Feature"
   ],
   "window_display": false
  }
 },
 "nbformat": 4,
 "nbformat_minor": 1
}
